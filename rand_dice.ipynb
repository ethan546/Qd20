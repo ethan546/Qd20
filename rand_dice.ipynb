{
 "cells": [
  {
   "cell_type": "markdown",
   "id": "a7358fb1-f016-404f-96d8-1bf7658158dc",
   "metadata": {},
   "source": [
    "## True Random dice!\n",
    "\n",
    "This is a notebook to make true random dice out of qubits.\n",
    "Eventually, this should be able to parse various input strings:\n",
    "e.g. \"3d4\" is calculated by creating a 4-state (2 qubit) circuit and running it three times.\n",
    "For dice sizes that aren't created easily with h gates, make the smallest quantum circuit needed and reroll anything too high."
   ]
  },
  {
   "cell_type": "code",
   "execution_count": 1,
   "id": "45acf2ef-f1a0-4ed3-b9ac-bf4fc206f38b",
   "metadata": {
    "tags": []
   },
   "outputs": [],
   "source": [
    "#required input just for rolls\n",
    "from qiskit import QuantumCircuit, QuantumRegister, ClassicalRegister, Aer, transpile\n",
    "from qiskit_aer import AerSimulator\n",
    "import numpy as np"
   ]
  },
  {
   "cell_type": "code",
   "execution_count": 6,
   "id": "c01c9c9e-5c2e-4927-8451-94f6c2ee3a39",
   "metadata": {
    "tags": []
   },
   "outputs": [],
   "source": [
    "def handle_input(strg):\n",
    "    #this func will take an input of the form 3d6p2\n",
    "    #then split and return calls = 3, size = 6, add = 2\n",
    "    split = strg.split(\"d\")\n",
    "    if \"p\" in split[1]:\n",
    "        split2 = split[1].split(\"p\")\n",
    "        return(int(split[0]),int(split2[0]),int(split2[1]))\n",
    "    else:\n",
    "        #no add\n",
    "        return(int(split[0]),int(split[1]),0)\n",
    "\n",
    "\n",
    "def create_circuit(size):\n",
    "    #take size as int, build a circuit with equal chances of each state\n",
    "    qubits = int(np.ceil(np.log2(size)))\n",
    "    qr = QuantumRegister(qubits,'x')\n",
    "    cr = ClassicalRegister(qubits,'c')\n",
    "    qc = QuantumCircuit(qr,cr)       \n",
    "    for i in range (qubits):\n",
    "        qc.h(i)        \n",
    "    qc.measure(qr,cr)\n",
    "    return qc\n",
    "\n",
    "\n",
    "def count_to_dec(count):\n",
    "    #takes result.get_counts() and converts to a decimal result\n",
    "    strg = str(count)\n",
    "    split = strg.split(\"'\")\n",
    "    num = int(split[1],2)\n",
    "    return (num+1)\n",
    "    \n",
    "    \n",
    "    \n",
    "def main(inp):\n",
    "    #take in the roll text and run everything!\n",
    "    #for external usage, outputs all prints in a list\n",
    "    try:\n",
    "        calls,size,add = handle_input(inp)\n",
    "    except:\n",
    "        print(\"bad input. Plese provide roll in form of 1d20 or 3d6p2.\")\n",
    "        return [\"invalid input\"]\n",
    "    \n",
    "    if size < 2:\n",
    "        print (\"That's not a real dice!!!\")\n",
    "        return [\"invalid input\"]\n",
    "\n",
    "    out = []\n",
    "    qc = create_circuit(size)\n",
    "    simulator = AerSimulator()\n",
    "    compiled_circuit = transpile(qc, simulator)\n",
    "    total_roll = add\n",
    "    \n",
    "    for _ in range (calls):\n",
    "        reroll = True\n",
    "        while reroll:\n",
    "            #sym and run the circuit\n",
    "            job = simulator.run(compiled_circuit, shots=1)\n",
    "            result = job.result()\n",
    "            roll = count_to_dec(result.get_counts())\n",
    "            #reroll if result is too big\n",
    "            if roll <= size:\n",
    "                reroll = False\n",
    "            else:\n",
    "                continue\n",
    "\n",
    "            #show each roll individually\n",
    "            if calls > 1:\n",
    "                msg = \"d\"+str(size)+\": \"+str(roll)\n",
    "                print (msg)\n",
    "                out.append(msg)\n",
    "        total_roll+=roll\n",
    "    msg = \"you rolled \"+str(inp)+\" and got \"+str(total_roll)+\"!\"\n",
    "    print (msg)\n",
    "    out.append(msg)\n",
    "    #not necessary in ,ipynb setting\n",
    "    #return out"
   ]
  },
  {
   "cell_type": "code",
   "execution_count": 7,
   "id": "cf2e8f0c-732e-4a30-a189-26baabafd65a",
   "metadata": {
    "tags": []
   },
   "outputs": [
    {
     "name": "stdout",
     "output_type": "stream",
     "text": [
      "you rolled 1d20 and got 2!\n"
     ]
    }
   ],
   "source": [
    "#main\n",
    "main('1d20')"
   ]
  },
  {
   "cell_type": "code",
   "execution_count": null,
   "id": "3d3ffa10-2dc3-4a6e-ae61-3c2b8bb17d1d",
   "metadata": {},
   "outputs": [],
   "source": []
  }
 ],
 "metadata": {
  "kernelspec": {
   "display_name": "Python 3 (ipykernel)",
   "language": "python",
   "name": "python3"
  },
  "language_info": {
   "codemirror_mode": {
    "name": "ipython",
    "version": 3
   },
   "file_extension": ".py",
   "mimetype": "text/x-python",
   "name": "python",
   "nbconvert_exporter": "python",
   "pygments_lexer": "ipython3",
   "version": "3.10.8"
  },
  "widgets": {
   "application/vnd.jupyter.widget-state+json": {
    "state": {},
    "version_major": 2,
    "version_minor": 0
   }
  }
 },
 "nbformat": 4,
 "nbformat_minor": 5
}
